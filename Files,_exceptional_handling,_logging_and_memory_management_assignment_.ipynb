{
  "nbformat": 4,
  "nbformat_minor": 0,
  "metadata": {
    "colab": {
      "provenance": []
    },
    "kernelspec": {
      "name": "python3",
      "display_name": "Python 3"
    },
    "language_info": {
      "name": "python"
    }
  },
  "cells": [
    {
      "cell_type": "markdown",
      "source": [
        "# **Files, exceptional handling, logging and memory management Questions**"
      ],
      "metadata": {
        "id": "Od2pyotVQNAt"
      }
    },
    {
      "cell_type": "markdown",
      "source": [
        "**1. What is the difference between interpreted and compiled languages?**\n",
        "\n",
        "Interpreted: Executes code line-by-line at runtime (e.g., Python, JavaScript).\n",
        "\n",
        "Compiled: Converts entire code to machine language before execution (e.g., C, C++).\n",
        "\n",
        "**2. What is exception handling in Python?**\n",
        "\n",
        "A mechanism to handle runtime errors using try, except, else, and finally blocks.\n",
        "\n",
        "**3. What is the purpose of the finally block in exception handling?**\n",
        "\n",
        "It executes regardless of whether an exception occurs, used for cleanup (e.g., closing files).\n",
        "\n",
        "**4. What is logging in Python?**\n",
        "\n",
        "Tracking program events (debugging, errors, info) using the logging module.\n",
        "\n",
        "**5. What is the significance of the __del__ method in Python?**\n",
        "\n",
        "Called when an object is destroyed (used for cleanup before garbage collection).\n",
        "\n",
        "**6. What is the difference between import and from ... import in Python?**\n",
        "\n",
        "\n",
        "import module: Imports the entire module.\n",
        "\n",
        "from module import func: Imports a specific function/class.\n",
        "\n",
        "**7. How can you handle multiple exceptions in Python?**\n",
        "\n",
        "Use a tuple in except:\n",
        "\n",
        "except (ValueError, TypeError) as e:  \n",
        "\n",
        "**8. What is the purpose of the with statement when handling files?**\n",
        "\n",
        "Automatically closes the file after usage (ensures resource cleanup).\n",
        "\n",
        "**9. What is the difference between multithreading and multiprocessing?**\n",
        "\n",
        "\n",
        "Multithreading: Multiple threads in one process (shared memory, good for I/O tasks).\n",
        "\n",
        "Multiprocessing: Separate processes (independent memory, good for CPU-heavy tasks).\n",
        "\n",
        "**10. What are the advantages of using logging in a program?**\n",
        "\n",
        "\n",
        "Debugging errors.\n",
        "\n",
        "Monitoring program flow.\n",
        "\n",
        "Storing records for analysis.\n",
        "\n",
        "**11. What is memory management in Python?**\n",
        "\n",
        "Python handles memory allocation/deallocation automatically using garbage collection.\n",
        "\n",
        "**12. What are the basic steps in exception handling?**\n",
        "\n",
        "\n",
        "try: Risky code.\n",
        "\n",
        "except: Handle errors.\n",
        "\n",
        "else: Run if no error.\n",
        "\n",
        "finally: Always executes.\n",
        "\n",
        "**13. Why is memory management important in Python?**\n",
        "\n",
        "Prevents memory leaks, optimizes performance, and avoids crashes.\n",
        "\n",
        "**14. What is the role of try and except in exception handling?**\n",
        "\n",
        "\n",
        "try: Tests code for errors.\n",
        "\n",
        "except: Catches and handles exceptions.\n",
        "\n",
        "**15. How does Python's garbage collection work?**\n",
        "\n",
        "Uses reference counting (deletes objects with zero references) + cycle detector.\n",
        "\n",
        "**16. What is the purpose of the else block in exception handling?**\n",
        "\n",
        "Runs only if no exception occurs in the try block.\n",
        "\n",
        "**17. What are the common logging levels in Python?**\n",
        "\n",
        "DEBUG < INFO < WARNING < ERROR < CRITICAL.\n",
        "\n",
        "**18. What is the difference between os.fork() and multiprocessing?**\n",
        "\n",
        "os.fork(): Low-level (Unix-only) process creation.\n",
        "\n",
        "multiprocessing: High-level, cross-platform library.\n",
        "\n",
        "**19. Why is closing a file important in Python?**\n",
        "\n",
        "Frees system resources and ensures data is written properly.\n",
        "\n",
        "**20. What is the difference between file.read() and file.readline()?**\n",
        "\n",
        "read(): Reads the entire file.\n",
        "\n",
        "readline(): Reads one line at a time.\n",
        "\n",
        "**21. What is the logging module used for?**\n",
        "\n",
        "To record events (errors, warnings, info) for debugging and monitoring.\n",
        "\n",
        "**22. What is the os module used for in file handling?**\n",
        "\n",
        "Provides OS-level operations (e.g., file paths, directory management).\n",
        "\n",
        "**23. What are the challenges in memory management?**\n",
        "\n",
        "\n",
        "Memory leaks.\n",
        "\n",
        "Fragmentation.\n",
        "\n",
        "Overhead from garbage collection.\n",
        "\n",
        "**24. How do you raise an exception manually?**\n",
        "\n",
        "\n",
        "raise ValueError(\"Custom error message\")  \n",
        "\n",
        "**25. Why is multithreading important in certain applications?**\n",
        "\n",
        "Improves performance in I/O-bound tasks (e.g., web scraping, APIs) by running threads concurrently."
      ],
      "metadata": {
        "id": "pRcuhHyZQPDD"
      }
    },
    {
      "cell_type": "markdown",
      "source": [
        "# **Practical Questions**"
      ],
      "metadata": {
        "id": "1geqfaX8e9fs"
      }
    },
    {
      "cell_type": "code",
      "source": [
        "# 1. Open a file for writing and write a string\n",
        "\n",
        "with open(\"example.txt\", \"w\") as file:\n",
        "    file.write(\"Hello, World!\")\n"
      ],
      "metadata": {
        "colab": {
          "base_uri": "https://localhost:8080/"
        },
        "id": "z3D-GtzPe96o",
        "outputId": "b8c9397a-fe0e-4325-fc98-fe39477e98ff"
      },
      "execution_count": 9,
      "outputs": [
        {
          "output_type": "stream",
          "name": "stdout",
          "text": [
            "<_io.TextIOWrapper name='example.txt' mode='w' encoding='utf-8'>\n"
          ]
        }
      ]
    },
    {
      "cell_type": "code",
      "source": [
        "#2. Read a file and print each line\n",
        "\n",
        "with open(\"example.txt\", \"r\") as file:\n",
        "    for line in file:\n",
        "        print(line.strip())"
      ],
      "metadata": {
        "id": "LkTRBgIce99y"
      },
      "execution_count": null,
      "outputs": []
    },
    {
      "cell_type": "code",
      "source": [
        "#3. Handle file not found error\n",
        "\n",
        "try:\n",
        "    with open(\"nonexistent.txt\", \"r\") as file:\n",
        "        print(file.read())\n",
        "except FileNotFoundError:\n",
        "    print(\"File not found!\")"
      ],
      "metadata": {
        "id": "t_F7H_WHe9_v"
      },
      "execution_count": null,
      "outputs": []
    },
    {
      "cell_type": "code",
      "source": [
        "#4. Copy content from one file to another\n",
        "\n",
        "with open(\"source.txt\", \"r\") as source:\n",
        "    with open(\"destination.txt\", \"w\") as dest:\n",
        "        dest.write(source.read())"
      ],
      "metadata": {
        "id": "_Y1fobMKe-DM"
      },
      "execution_count": null,
      "outputs": []
    },
    {
      "cell_type": "code",
      "source": [
        "#5. Handle division by zero error\n",
        "\n",
        "try:\n",
        "    result = 10 / 0\n",
        "except ZeroDivisionError:\n",
        "    print(\"Cannot divide by zero!\")"
      ],
      "metadata": {
        "id": "nsgWyUW8e-HY"
      },
      "execution_count": null,
      "outputs": []
    },
    {
      "cell_type": "code",
      "source": [
        "#6. Log division by zero error to a file\n",
        "\n",
        "import logging\n",
        "\n",
        "logging.basicConfig(filename=\"errors.log\", level=logging.ERROR)\n",
        "\n",
        "try:\n",
        "    10 / 0\n",
        "except ZeroDivisionError:\n",
        "    logging.error(\"Division by zero occurred\")"
      ],
      "metadata": {
        "colab": {
          "base_uri": "https://localhost:8080/"
        },
        "id": "5gsKoeX-e-Kt",
        "outputId": "5ada25c5-1e09-464f-f35d-55dcfa3f9184"
      },
      "execution_count": 10,
      "outputs": [
        {
          "output_type": "stream",
          "name": "stderr",
          "text": [
            "ERROR:root:Division by zero occurred\n"
          ]
        }
      ]
    },
    {
      "cell_type": "code",
      "source": [
        "#7. Log at different levels\n",
        "\n",
        "import logging\n",
        "\n",
        "logging.basicConfig(level=logging.INFO)\n",
        "logging.info(\"This is an info message\")\n",
        "logging.warning(\"This is a warning\")\n",
        "logging.error(\"This is an error\")"
      ],
      "metadata": {
        "id": "hhJvWxBOgfU-"
      },
      "execution_count": null,
      "outputs": []
    },
    {
      "cell_type": "code",
      "source": [
        "#8. Handle file opening error\n",
        "\n",
        "try:\n",
        "    with open(\"missing.txt\", \"r\") as file:\n",
        "        print(file.read())\n",
        "except IOError:\n",
        "    print(\"Error opening file\")"
      ],
      "metadata": {
        "id": "KEhnLxmegfeq"
      },
      "execution_count": null,
      "outputs": []
    },
    {
      "cell_type": "code",
      "source": [
        "#9. Read file into list\n",
        "\n",
        "with open(\"example.txt\", \"r\") as file:\n",
        "    lines = file.readlines()\n",
        "print(lines)"
      ],
      "metadata": {
        "id": "UfPFDSUigfhq"
      },
      "execution_count": null,
      "outputs": []
    },
    {
      "cell_type": "code",
      "source": [
        "#10. Append to a file\n",
        "\n",
        "with open(\"example.txt\", \"a\") as file:\n",
        "    file.write(\"\\nNew appended line\")"
      ],
      "metadata": {
        "id": "j5253Xv9gfkV"
      },
      "execution_count": null,
      "outputs": []
    },
    {
      "cell_type": "code",
      "source": [
        "#11. Handle missing dictionary key\n",
        "\n",
        "my_dict = {\"a\": 1, \"b\": 2}\n",
        "try:\n",
        "    print(my_dict[\"c\"])\n",
        "except KeyError:\n",
        "    print(\"Key not found\")"
      ],
      "metadata": {
        "id": "q81lxeL7gfsk"
      },
      "execution_count": null,
      "outputs": []
    },
    {
      "cell_type": "code",
      "source": [
        "#12. Multiple exception handlers\n",
        "\n",
        "try:\n",
        "    # Code that might raise exceptions\n",
        "    x = 10 / 0\n",
        "    print(y)  # Assuming y is not defined\n",
        "except ZeroDivisionError:\n",
        "    print(\"Division by zero\")\n",
        "except NameError:\n",
        "    print(\"Variable not defined\")"
      ],
      "metadata": {
        "id": "sWQ7UNnCgfwG"
      },
      "execution_count": null,
      "outputs": []
    },
    {
      "cell_type": "code",
      "source": [
        "#13. Check if file exists\n",
        "\n",
        "import os\n",
        "\n",
        "if os.path.exists(\"example.txt\"):\n",
        "    print(\"File exists\")\n",
        "else:\n",
        "    print(\"File not found\")"
      ],
      "metadata": {
        "id": "Fcrc3y70gf1S"
      },
      "execution_count": null,
      "outputs": []
    },
    {
      "cell_type": "code",
      "source": [
        "#14. Log info and error messages\n",
        "\n",
        "import logging\n",
        "\n",
        "logging.basicConfig(filename=\"app.log\", level=logging.INFO)\n",
        "logging.info(\"Program started\")\n",
        "try:\n",
        "    10 / 0\n",
        "except:\n",
        "    logging.error(\"Error occurred\", exc_info=True)"
      ],
      "metadata": {
        "id": "F1rRTH2ihDc2"
      },
      "execution_count": null,
      "outputs": []
    },
    {
      "cell_type": "code",
      "source": [
        "#15. Handle empty file\n",
        "\n",
        "with open(\"example.txt\", \"r\") as file:\n",
        "    content = file.read()\n",
        "    if not content:\n",
        "        print(\"File is empty\")\n",
        "    else:\n",
        "        print(content)"
      ],
      "metadata": {
        "id": "rwZrMF9nhDk7"
      },
      "execution_count": null,
      "outputs": []
    },
    {
      "cell_type": "code",
      "source": [
        "#16. Memory profiling\n",
        "\n",
        "# Requires memory_profiler package (pip install memory_profiler)\n",
        "from memory_profiler import profile\n",
        "\n",
        "@profile\n",
        "def my_func():\n",
        "    lst = [i for i in range(10000)]\n",
        "    return lst\n",
        "\n",
        "my_func()"
      ],
      "metadata": {
        "id": "SheE4bmQhDr8"
      },
      "execution_count": null,
      "outputs": []
    },
    {
      "cell_type": "code",
      "source": [
        "#17. Write numbers to file\n",
        "\n",
        "numbers = [1, 2, 3, 4, 5]\n",
        "with open(\"numbers.txt\", \"w\") as file:\n",
        "    for num in numbers:\n",
        "        file.write(f\"{num}\\n\")"
      ],
      "metadata": {
        "id": "fVnQFQyPhDwF"
      },
      "execution_count": null,
      "outputs": []
    },
    {
      "cell_type": "code",
      "source": [
        "#18. Logging with rotation\n",
        "\n",
        "import logging\n",
        "from logging.handlers import RotatingFileHandler\n",
        "\n",
        "handler = RotatingFileHandler(\"app.log\", maxBytes=1024*1024, backupCount=3)\n",
        "logging.basicConfig(handlers=[handler], level=logging.INFO)\n",
        "logging.info(\"This will rotate after 1MB\")"
      ],
      "metadata": {
        "id": "sUdDPEVahD10"
      },
      "execution_count": null,
      "outputs": []
    },
    {
      "cell_type": "code",
      "source": [
        "#19. Handle IndexError and KeyError\n",
        "\n",
        "try:\n",
        "    lst = [1, 2]\n",
        "    print(lst[5])  # IndexError\n",
        "    d = {\"a\": 1}\n",
        "    print(d[\"b\"])  # KeyError\n",
        "except IndexError:\n",
        "    print(\"List index out of range\")\n",
        "except KeyError:\n",
        "    print(\"Dictionary key not found\")"
      ],
      "metadata": {
        "id": "Crf2wtHShD7K"
      },
      "execution_count": null,
      "outputs": []
    },
    {
      "cell_type": "code",
      "source": [
        "#20. Read file with context manager\n",
        "\n",
        "with open(\"example.txt\", \"r\") as file:\n",
        "    content = file.read()\n",
        "print(content)"
      ],
      "metadata": {
        "id": "Le48fQ_qhESC"
      },
      "execution_count": null,
      "outputs": []
    },
    {
      "cell_type": "code",
      "source": [
        "#21. Count word occurrences\n",
        "\n",
        "word = \"hello\"\n",
        "count = 0\n",
        "\n",
        "with open(\"example.txt\", \"r\") as file:\n",
        "    for line in file:\n",
        "        count += line.lower().count(word)\n",
        "\n",
        "print(f\"'{word}' appears {count} times\")"
      ],
      "metadata": {
        "colab": {
          "base_uri": "https://localhost:8080/"
        },
        "id": "c6LAwLIUhtAu",
        "outputId": "c188c8b9-b05b-49f4-cd49-cc1c8b5708bd"
      },
      "execution_count": 12,
      "outputs": [
        {
          "output_type": "stream",
          "name": "stdout",
          "text": [
            "'hello' appears 1 times\n"
          ]
        }
      ]
    },
    {
      "cell_type": "code",
      "source": [
        "#22. Check if file is empty\n",
        "\n",
        "import os\n",
        "\n",
        "if os.path.getsize(\"example.txt\") == 0:\n",
        "    print(\"File is empty\")\n",
        "else:\n",
        "    print(\"File has content\")"
      ],
      "metadata": {
        "colab": {
          "base_uri": "https://localhost:8080/"
        },
        "id": "j2bG150shxzK",
        "outputId": "c5119dc7-e313-4bb5-83aa-6048b68b7b5d"
      },
      "execution_count": 11,
      "outputs": [
        {
          "output_type": "stream",
          "name": "stdout",
          "text": [
            "File has content\n"
          ]
        }
      ]
    }
  ]
}